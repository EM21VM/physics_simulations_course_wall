{
 "cells": [
  {
   "cell_type": "code",
   "execution_count": 12,
   "id": "e8b98542-c185-46b3-9f6d-4f54c148dccc",
   "metadata": {},
   "outputs": [],
   "source": [
    "%matplotlib inline\n",
    "from ipywidgets import interact, interactive\n",
    "import matplotlib.pyplot as plt\n",
    "import numpy as np"
   ]
  },
  {
   "cell_type": "code",
   "execution_count": 13,
   "id": "35a88a5e-c317-4e61-bc0b-8ea200eb574a",
   "metadata": {},
   "outputs": [],
   "source": [
    "def normalize(vec):\n",
    "    if not np.any(vec):\n",
    "        raise ValueError(\"can't normalize the zero vector\")\n",
    "    return vec / np.linalg.norm(vec)"
   ]
  },
  {
   "cell_type": "code",
   "execution_count": 14,
   "id": "0a9345e0-53ae-4d67-8bf3-cd24577c5e46",
   "metadata": {},
   "outputs": [],
   "source": [
    "def angle_between(v1, v2):\n",
    "    return np.arccos(\n",
    "        np.dot(v1, v2) / (np.linalg.norm(v1) * np.linalg.norm(v2))\n",
    "    )"
   ]
  },
  {
   "cell_type": "code",
   "execution_count": 15,
   "id": "69616ea0-01d7-447b-8bb4-faf2d8e65712",
   "metadata": {},
   "outputs": [],
   "source": [
    "def ortho_xy(v):\n",
    "    x, y, z = v\n",
    "    return np.array([y, -x, z])"
   ]
  },
  {
   "cell_type": "code",
   "execution_count": 16,
   "id": "75538023-db57-4b37-89a2-60fede89764c",
   "metadata": {},
   "outputs": [],
   "source": [
    "def get_ecc(M, pos, vel):\n",
    "    h_vec = np.cross(pos, vel)\n",
    "    return np.cross(vel, h_vec) / M - normalize(pos)"
   ]
  },
  {
   "cell_type": "code",
   "execution_count": 17,
   "id": "409a1a3a-f811-493e-9ea0-bb1897c004bc",
   "metadata": {},
   "outputs": [],
   "source": [
    "def get_ellipse_pts(M, pos, vel):\n",
    "    e_vec = get_ecc(M, pos, vel)\n",
    "    e = np.linalg.norm(e_vec)\n",
    "    if e >= 1:\n",
    "        return False\n",
    "        \n",
    "    e_hat = normalize(e_vec)\n",
    "    r = np.linalg.norm(pos)\n",
    "    th = angle_between(pos, e_vec)\n",
    "    a = r * (1+e*np.cos(th)) / (1-e**2)\n",
    "    b = a*np.sqrt(1-e**2)\n",
    "    rp = 2 * a / ((1 + e) / (1 - e) + 1)\n",
    "    \n",
    "    p1 = rp * e_hat\n",
    "    p2 = p1 - 2*e_hat*a\n",
    "    c = (p1+p2)/2\n",
    "    b_hat = ortho_xy(e_hat)\n",
    "    p3 = c - b_hat*b\n",
    "    p4 = c + b_hat*b\n",
    "    return np.array([pos, p1, p2, p3, p4, c])"
   ]
  },
  {
   "cell_type": "code",
   "execution_count": 18,
   "id": "6e2288bb-542f-42a2-aeea-d6d4470e3048",
   "metadata": {},
   "outputs": [],
   "source": [
    "def get_conic_coeffs(pts):\n",
    "    x = pts[:, 0]\n",
    "    y = pts[:, 1]\n",
    "    M = np.vstack([x**2, x * y, y**2, x, y]).T\n",
    "    return np.linalg.lstsq(M, np.ones(5), rcond=-1)[0]"
   ]
  },
  {
   "cell_type": "code",
   "execution_count": 20,
   "id": "2fb344eb-5a50-4065-8f58-8e2e08c74a8b",
   "metadata": {},
   "outputs": [],
   "source": [
    "def draw_ellipse(coeffs):\n",
    "    A, B, C, D, E, F = coeffs\n",
    "    conic = A * X**2 + B * X * Y + C * Y**2 + D * X + E * Y\n",
    "    plt.contour(X, Y, (conic), [1])"
   ]
  },
  {
   "cell_type": "code",
   "execution_count": 21,
   "id": "fcc6e8de-1414-4f83-9c77-5ebb5ca0997e",
   "metadata": {},
   "outputs": [],
   "source": [
    "def plot_ellipse(M=1.0, x=100, y=0, vr=0.01, vth=np.pi/2):\n",
    "    pos = np.array([x, y, 0])\n",
    "    vel = vr*np.array([np.cos(vth), np.sin(vth), 0])\n",
    "    e_vec = get_ecc(M, pos, vel)\n",
    "    e = np.linalg.norm(e_vec)\n",
    "    print(f\"e={e:0.5f}\")\n",
    "    if e < 1:\n",
    "        pts = get_ellipse_pts(M, pos, vel)\n",
    "        A, B, C, D, E  = get_conic_coeffs(pts[:-1])\n",
    "        conic = A * X**2 + B * X * Y + C * Y**2 + D * X + E * Y\n",
    "    \n",
    "    plt.plot(pts[1:3, 0], pts[1:3,1], color=\"red\", alpha=0.5)\n",
    "    plt.plot(pts[3:5, 0], pts[3:5,1], color=\"green\", alpha=0.5)\n",
    "    \n",
    "    plt.contour(X, Y, (conic), [1], colors=\"purple\", alpha=0.5)\n",
    "    \n",
    "    plt.plot(0, 0, \"o\", markersize=15, c=\"orange\")\n",
    "    plt.plot(2*pts[5,0], 2*pts[5,1], \"o\", markersize=5, c=\"red\")\n",
    "    plt.plot(x, y, \"o\", markersize=5, c=\"blue\")\n",
    "    \n",
    "    vx, vy = 300 * vr * np.array([np.cos(vth), np.sin(vth)])\n",
    "    plt.arrow(x, y, vx, vy, head_width=2)\n",
    "\n",
    "    plt.gca().set_aspect(\"equal\")\n",
    "    plt.xlim(-150, 150)\n",
    "    plt.ylim(-150, 150)\n",
    "    plt.xticks([], [])\n",
    "    plt.yticks([], [])\n",
    "    \n",
    "    plt.show()"
   ]
  },
  {
   "cell_type": "code",
   "execution_count": 22,
   "id": "79f09e62-4680-4f0e-a0f6-bb9bbbbd499a",
   "metadata": {},
   "outputs": [
    {
     "name": "stdout",
     "output_type": "stream",
     "text": [
      "e=0.99000\n"
     ]
    },
    {
     "data": {
      "image/png": "[encoded data removed]",
      "text/plain": [
       "<Figure size 640x480 with 1 Axes>"
      ]
     },
     "metadata": {},
     "output_type": "display_data"
    },
    {
     "data": {
      "application/vnd.jupyter.widget-view+json": {
       "model_id": "3cc2b41fdfc54f59ad1d133e5d7061ae",
       "version_major": 2,
       "version_minor": 0
      },
      "text/plain": [
       "interactive(children=(FloatSlider(value=1.0, description='M', max=20.0, min=1.0, step=0.01), IntSlider(value=1…"
      ]
     },
     "execution_count": 22,
     "metadata": {},
     "output_type": "execute_result"
    }
   ],
   "source": [
    "interactive_plot = interactive(plot_ellipse, M=(1,20,0.01), x=(-100,100,1), y=(-100, 100, 1), vr=(0.001, 0.25, 0.001), vth=(0, 2*np.pi, 2*np.pi/360))\n",
    "output = interactive_plot.children[-1]\n",
    "output.layout.height = \"500px\"\n",
    "interactive_plot"
   ]
  },
  {
   "cell_type": "code",
   "execution_count": null,
   "id": "65acd03d-41f1-403a-8efe-4d92f59d9952",
   "metadata": {},
   "outputs": [],
   "source": []
  },
  {
   "cell_type": "code",
   "execution_count": null,
   "id": "1a8e92bd-821c-4067-a388-5bf23f531783",
   "metadata": {},
   "outputs": [],
   "source": []
  }
 ],
 "metadata": {
  "kernelspec": {
   "display_name": "Python 3 (ipykernel)",
   "language": "python",
   "name": "python3"
  },
  "language_info": {
   "codemirror_mode": {
    "name": "ipython",
    "version": 3
   },
   "file_extension": ".py",
   "mimetype": "text/x-python",
   "name": "python",
   "nbconvert_exporter": "python",
   "pygments_lexer": "ipython3",
   "version": "3.12.7"
  }
 },
 "nbformat": 4,
 "nbformat_minor": 5
}
