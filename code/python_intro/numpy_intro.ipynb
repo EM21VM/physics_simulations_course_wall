{
 "cells": [
  {
   "cell_type": "markdown",
   "id": "1f145523-01c8-4450-a0af-b01f5dff7750",
   "metadata": {},
   "source": [
    "# Quick introduction to NumPy and SciPy"
   ]
  },
  {
   "cell_type": "markdown",
   "id": "1e1f59f7-2bfd-40bb-9441-b34e0e0068e8",
   "metadata": {},
   "source": [
    "## NumPy"
   ]
  },
  {
   "cell_type": "code",
   "execution_count": 1,
   "id": "14090011-a87a-40ce-b9bd-1d3834e8af63",
   "metadata": {},
   "outputs": [],
   "source": [
    "import numpy as np"
   ]
  },
  {
   "cell_type": "code",
   "execution_count": 5,
   "id": "77745c6c-059e-4c72-9518-b3e0b98f20a2",
   "metadata": {},
   "outputs": [],
   "source": [
    "def print_ndarray_info(arr, name):\n",
    "    print(f\"{name} = {np.array_str(arr, precision=2, suppress_small=True)}, shape={arr.shape}, type={arr.dtype}\")"
   ]
  },
  {
   "cell_type": "markdown",
   "id": "851785c6-4b9c-4734-b23a-cdb10ee297e8",
   "metadata": {},
   "source": [
    "### 1D arrays"
   ]
  },
  {
   "cell_type": "code",
   "execution_count": 6,
   "id": "ea463eea-4568-4d7e-9ca1-e7c29c52dcc9",
   "metadata": {},
   "outputs": [
    {
     "name": "stdout",
     "output_type": "stream",
     "text": [
      "v1 = [ 1  2 -5  0  7], shape=(5,), type=int64\n"
     ]
    }
   ],
   "source": [
    "v1 = np.array([1, 2, -5, 0, 7])\n",
    "print_ndarray_info(v1, \"v1\")"
   ]
  },
  {
   "cell_type": "code",
   "execution_count": 7,
   "id": "daac3a3d-491b-461b-9519-4c1041118b5a",
   "metadata": {},
   "outputs": [
    {
     "name": "stdout",
     "output_type": "stream",
     "text": [
      "v2 = [ 2.5   3.    0.   -2.    1.25], shape=(5,), type=float64\n"
     ]
    }
   ],
   "source": [
    "v2 = np.array([2.5, 3.0, 0, -2, 1.25])\n",
    "print_ndarray_info(v2, \"v2\")"
   ]
  },
  {
   "cell_type": "code",
   "execution_count": 8,
   "id": "c1e8145a-2460-4fd8-9f0c-f39f7d4ea763",
   "metadata": {},
   "outputs": [
    {
     "name": "stdout",
     "output_type": "stream",
     "text": [
      "v3 = [ 3.5   5.   -5.   -2.    8.25], shape=(5,), type=float64\n"
     ]
    }
   ],
   "source": [
    "v3 = v1 + v2\n",
    "print_ndarray_info(v3, \"v3\")"
   ]
  },
  {
   "cell_type": "code",
   "execution_count": 9,
   "id": "6fa29400-cbae-44ee-932f-43f20316e440",
   "metadata": {},
   "outputs": [
    {
     "name": "stdout",
     "output_type": "stream",
     "text": [
      "v4 = [ 2.5   6.   -0.   -0.    8.75], shape=(5,), type=float64\n"
     ]
    }
   ],
   "source": [
    "v4 = v1 * v2\n",
    "print_ndarray_info(v4, \"v4\")"
   ]
  },
  {
   "cell_type": "code",
   "execution_count": 10,
   "id": "659171fd-2163-41ef-b337-b5c8c2bd7a71",
   "metadata": {},
   "outputs": [
    {
     "ename": "ValueError",
     "evalue": "operands could not be broadcast together with shapes (5,) (3,) ",
     "output_type": "error",
     "traceback": [
      "\u001b[0;31m---------------------------------------------------------------------------\u001b[0m",
      "\u001b[0;31mValueError\u001b[0m                                Traceback (most recent call last)",
      "Cell \u001b[0;32mIn[10], line 2\u001b[0m\n\u001b[1;32m      1\u001b[0m v5 \u001b[38;5;241m=\u001b[39m np\u001b[38;5;241m.\u001b[39marray([\u001b[38;5;241m1\u001b[39m, \u001b[38;5;241m2\u001b[39m, \u001b[38;5;241m3\u001b[39m])\n\u001b[0;32m----> 2\u001b[0m v6 \u001b[38;5;241m=\u001b[39m \u001b[43mv2\u001b[49m\u001b[43m \u001b[49m\u001b[38;5;241;43m+\u001b[39;49m\u001b[43m \u001b[49m\u001b[43mv5\u001b[49m\n",
      "\u001b[0;31mValueError\u001b[0m: operands could not be broadcast together with shapes (5,) (3,) "
     ]
    }
   ],
   "source": [
    "v5 = np.array([1, 2, 3])\n",
    "v6 = v2 + v5"
   ]
  },
  {
   "cell_type": "code",
   "execution_count": 11,
   "id": "e1dc8462-cea4-4060-b7ca-a4ffb8bd9057",
   "metadata": {},
   "outputs": [
    {
     "name": "stdout",
     "output_type": "stream",
     "text": [
      "v5+v6 = [3.5 8.  3. ], shape=(3,), type=float64\n"
     ]
    }
   ],
   "source": [
    "v6 = v4[:3]\n",
    "print_ndarray_info(v5+v6, \"v5+v6\")"
   ]
  },
  {
   "cell_type": "code",
   "execution_count": 12,
   "id": "f999c197-35e7-48b6-a2b5-b8735e824fdc",
   "metadata": {},
   "outputs": [
    {
     "name": "stdout",
     "output_type": "stream",
     "text": [
      "v5⋅v6 = 14.5\n"
     ]
    }
   ],
   "source": [
    "a = np.dot(v5, v6)\n",
    "print(f\"v5⋅v6 = {a}\")"
   ]
  },
  {
   "cell_type": "markdown",
   "id": "dff93711-0442-42f4-9368-f21f30b37a8e",
   "metadata": {},
   "source": [
    "### 2D arrays"
   ]
  },
  {
   "cell_type": "code",
   "execution_count": 13,
   "id": "a7c44449-229e-4c33-a299-e6a9157328d6",
   "metadata": {},
   "outputs": [
    {
     "name": "stdout",
     "output_type": "stream",
     "text": [
      "M1 = [[ 1.  -1.   0. ]\n",
      " [ 0.5  0.   2. ]\n",
      " [-2.   3.  -0.5]], shape=(3, 3), type=float64\n"
     ]
    }
   ],
   "source": [
    "M1 = np.array([\n",
    "    [1, -1, 0],\n",
    "    [0.5, 0, 2],\n",
    "    [-2, 3, -0.5]\n",
    "])\n",
    "print_ndarray_info(M1, \"M1\")"
   ]
  },
  {
   "cell_type": "code",
   "execution_count": 14,
   "id": "d3ec1e67-209e-4d29-8908-38cf2553b652",
   "metadata": {},
   "outputs": [
    {
     "name": "stdout",
     "output_type": "stream",
     "text": [
      "1.0\n",
      "3.0\n"
     ]
    }
   ],
   "source": [
    "print(M1[0,0])\n",
    "print(M1[2,1])"
   ]
  },
  {
   "cell_type": "code",
   "execution_count": 15,
   "id": "7ab9fd95-b23c-483a-bd48-bfbfc374d4cc",
   "metadata": {},
   "outputs": [
    {
     "name": "stdout",
     "output_type": "stream",
     "text": [
      "[ 1. -1.  0.]\n"
     ]
    }
   ],
   "source": [
    "# first row\n",
    "print(M1[0])"
   ]
  },
  {
   "cell_type": "code",
   "execution_count": 22,
   "id": "9d917d3c-1aae-4df2-9152-e43fd5a2b182",
   "metadata": {},
   "outputs": [
    {
     "name": "stdout",
     "output_type": "stream",
     "text": [
      "[ 1.   0.5 -2. ]\n"
     ]
    }
   ],
   "source": [
    "# first column\n",
    "print(M1[:, 0])"
   ]
  },
  {
   "cell_type": "code",
   "execution_count": 35,
   "id": "0295cb7e-8db5-40b7-a0b8-5c0cab80c865",
   "metadata": {},
   "outputs": [
    {
     "name": "stdout",
     "output_type": "stream",
     "text": [
      "[[ 1.   0.5 -2. ]\n",
      " [-1.   0.   3. ]\n",
      " [ 0.   2.  -0.5]]\n"
     ]
    }
   ],
   "source": [
    "# transpose\n",
    "print(M1.T)"
   ]
  },
  {
   "cell_type": "code",
   "execution_count": 36,
   "id": "26c9fc22-c4c4-441b-b29b-c35466214950",
   "metadata": {},
   "outputs": [
    {
     "name": "stdout",
     "output_type": "stream",
     "text": [
      "[ 1.   0.5 -2. ] [ 1.   0.5 -2. ]\n"
     ]
    }
   ],
   "source": [
    "# first row of M1.T == first col of M1\n",
    "print(M1.T[0], M1[:, 0])"
   ]
  },
  {
   "cell_type": "code",
   "execution_count": 37,
   "id": "68aa1499-af45-491c-97c8-e925ef4a3ed9",
   "metadata": {},
   "outputs": [
    {
     "name": "stdout",
     "output_type": "stream",
     "text": [
      "[[ 1.  -1. ]\n",
      " [ 0.5  0. ]]\n"
     ]
    }
   ],
   "source": [
    "# upper-left block of M1\n",
    "print(M1[:2, :2])"
   ]
  },
  {
   "cell_type": "code",
   "execution_count": 38,
   "id": "de5eb043-3e96-461a-adc8-13a2ea08f609",
   "metadata": {},
   "outputs": [
    {
     "name": "stdout",
     "output_type": "stream",
     "text": [
      "v7=M1⋅v5 = [-1.   6.5  2.5], shape=(3,), type=float64\n"
     ]
    }
   ],
   "source": [
    "# Matrix-vector product (it's just another matrix-matrix product...)\n",
    "v7 = np.dot(M1, v5)\n",
    "print_ndarray_info(v7, \"v7=M1⋅v5\")"
   ]
  },
  {
   "cell_type": "code",
   "execution_count": 23,
   "id": "fccfdcdc-7dcf-495f-8813-8388cf518bc5",
   "metadata": {},
   "outputs": [
    {
     "data": {
      "text/plain": [
       "array([-4. ,  8. ,  2.5])"
      ]
     },
     "execution_count": 23,
     "metadata": {},
     "output_type": "execute_result"
    }
   ],
   "source": [
    "# The order of multiplication matters!\n",
    "np.dot(v5, M1)\n",
    "# (in this case numpy considers v5 as a row vector)"
   ]
  },
  {
   "cell_type": "code",
   "execution_count": 24,
   "id": "aec5059c-ad83-4f8e-81e2-57c848bad379",
   "metadata": {},
   "outputs": [
    {
     "name": "stdout",
     "output_type": "stream",
     "text": [
      "M4=M2⋅M3 = [[ 0  2]\n",
      " [ 1 -1]], shape=(2, 2), type=int64\n",
      "M5=M3⋅M2 = [[ 2  4]\n",
      " [-1 -3]], shape=(2, 2), type=int64\n"
     ]
    }
   ],
   "source": [
    "# Matrix-Matrix product (remember: it's not commutative!)\n",
    "M2 = np.array([[1, 2], [0, -1]])\n",
    "M3 = np.array([[2, 0], [-1, 1]])\n",
    "M4 = np.dot(M2, M3)\n",
    "M5 = np.dot(M3, M2)\n",
    "print_ndarray_info(M4, \"M4=M2⋅M3\")\n",
    "print_ndarray_info(M5, \"M5=M3⋅M2\")"
   ]
  },
  {
   "cell_type": "markdown",
   "id": "7d687f28-2180-4dcc-8202-d1c97bf704fa",
   "metadata": {},
   "source": [
    "### nD arrays"
   ]
  },
  {
   "cell_type": "code",
   "execution_count": 25,
   "id": "179db141-cc43-4dc0-afdb-c6c3a8a758ca",
   "metadata": {},
   "outputs": [
    {
     "name": "stdout",
     "output_type": "stream",
     "text": [
      "T = [[[ 2  1]\n",
      "  [ 4 -2]]\n",
      "\n",
      " [[ 0  1]\n",
      "  [-3  2]]\n",
      "\n",
      " [[ 2  5]\n",
      "  [-1  0]]], shape=(3, 2, 2), type=int64\n",
      "T0 = [[ 2  1]\n",
      " [ 4 -2]], shape=(2, 2), type=int64\n",
      "T1 = [[ 0  1]\n",
      " [-3  2]], shape=(2, 2), type=int64\n",
      "T2 = [[ 2  5]\n",
      " [-1  0]], shape=(2, 2), type=int64\n",
      "Ti0 = [[2 1]\n",
      " [0 1]\n",
      " [2 5]], shape=(3, 2), type=int64\n",
      "Ti1 = [[ 4 -2]\n",
      " [-3  2]\n",
      " [-1  0]], shape=(3, 2), type=int64\n"
     ]
    }
   ],
   "source": [
    "T = np.array([[[2, 1], [4, -2]], [[0, 1], [-3, 2]], [[2, 5], [-1, 0]]])\n",
    "print_ndarray_info(T, \"T\")\n",
    "print_ndarray_info(T[0], \"T0\")\n",
    "print_ndarray_info(T[1], \"T1\")\n",
    "print_ndarray_info(T[2], \"T2\")\n",
    "print_ndarray_info(T[:, 0], \"Ti0\")\n",
    "print_ndarray_info(T[:, 1], \"Ti1\")"
   ]
  },
  {
   "cell_type": "markdown",
   "id": "63689f7a-1ad1-4a4d-a976-b8250d0299a3",
   "metadata": {},
   "source": [
    "### Creating arrays using NumPy functions"
   ]
  },
  {
   "cell_type": "code",
   "execution_count": 42,
   "id": "d7f52360-884f-404e-b6fb-d424682cf4cd",
   "metadata": {},
   "outputs": [
    {
     "name": "stdout",
     "output_type": "stream",
     "text": [
      "xs = [0.   0.25 0.5  0.75 1.   1.25 1.5  1.75 2.   2.25 2.5  2.75 3.   3.25\n",
      " 3.5  3.75 4.   4.25 4.5  4.75 5.   5.25 5.5  5.75 6.   6.25 6.5  6.75\n",
      " 7.   7.25 7.5  7.75 8.   8.25 8.5  8.75 9.   9.25 9.5  9.75], shape=(40,), type=float64\n"
     ]
    }
   ],
   "source": [
    "xs = np.arange(0, 10, 0.25)\n",
    "print_ndarray_info(xs, \"xs\")"
   ]
  },
  {
   "cell_type": "code",
   "execution_count": 43,
   "id": "2dcf41db-1e05-42a5-bcc3-ab0da931d983",
   "metadata": {},
   "outputs": [
    {
     "name": "stdout",
     "output_type": "stream",
     "text": [
      "ys = [-5.  -4.5 -4.  -3.5 -3.  -2.5 -2.  -1.5 -1.  -0.5  0.   0.5  1.   1.5\n",
      "  2.   2.5  3.   3.5  4.   4.5  5. ], shape=(21,), type=float64\n"
     ]
    }
   ],
   "source": [
    "ys = np.linspace(-5, 5, 21)\n",
    "print_ndarray_info(ys, \"ys\")"
   ]
  },
  {
   "cell_type": "code",
   "execution_count": 28,
   "id": "d28476e5-ed53-49cc-a7f0-ee6b56404f19",
   "metadata": {},
   "outputs": [
    {
     "name": "stdout",
     "output_type": "stream",
     "text": [
      "A_ones = [[1. 1. 1. 1.]\n",
      " [1. 1. 1. 1.]\n",
      " [1. 1. 1. 1.]], shape=(3, 4), type=float64\n"
     ]
    }
   ],
   "source": [
    "A_ones = np.ones(shape=(3,4))\n",
    "print_ndarray_info(A_ones, \"A_ones\")"
   ]
  },
  {
   "cell_type": "code",
   "execution_count": 45,
   "id": "d0683327-365f-444d-b9a9-3b7e0ca92857",
   "metadata": {},
   "outputs": [
    {
     "name": "stdout",
     "output_type": "stream",
     "text": [
      "A_zeros = [0. 0. 0. 0. 0. 0. 0.], shape=(7,), type=float64\n"
     ]
    }
   ],
   "source": [
    "A_zeros = np.zeros(7)\n",
    "print_ndarray_info(A_zeros, \"A_zeros\")"
   ]
  },
  {
   "cell_type": "markdown",
   "id": "7bfded4a-cd53-451d-8a78-be431687d2df",
   "metadata": {},
   "source": [
    "### Reshaping arrays"
   ]
  },
  {
   "cell_type": "code",
   "execution_count": 33,
   "id": "2fecd799-b3e0-461e-b4d0-836ded58b3fd",
   "metadata": {},
   "outputs": [
    {
     "name": "stdout",
     "output_type": "stream",
     "text": [
      "a = [ 0  1  2  3  4  5  6  7  8  9 10 11], shape=(12,), type=int64\n"
     ]
    }
   ],
   "source": [
    "a = np.arange(12)\n",
    "print_ndarray_info(a, \"a\")"
   ]
  },
  {
   "cell_type": "code",
   "execution_count": 35,
   "id": "d4ee9758-131b-407e-a5b7-6d23a8011296",
   "metadata": {},
   "outputs": [
    {
     "name": "stdout",
     "output_type": "stream",
     "text": [
      "b = [[[ 0  1  2]\n",
      "  [ 3  4  5]]\n",
      "\n",
      " [[ 6  7  8]\n",
      "  [ 9 10 11]]], shape=(2, 2, 3), type=int64\n"
     ]
    }
   ],
   "source": [
    "b = a.reshape((2, 2, 3))\n",
    "print_ndarray_info(b, \"b\")"
   ]
  },
  {
   "cell_type": "markdown",
   "id": "18b498a8-eae4-4b88-89e0-aaa42121242d",
   "metadata": {},
   "source": [
    "### Axes"
   ]
  },
  {
   "cell_type": "code",
   "execution_count": 48,
   "id": "bb812b85-c3d3-4516-a45a-5d57827e8369",
   "metadata": {},
   "outputs": [
    {
     "name": "stdout",
     "output_type": "stream",
     "text": [
      "21\n",
      "[5 7 9]\n",
      "[ 6 15]\n",
      "[2.5 3.5 4.5]\n"
     ]
    }
   ],
   "source": [
    "a = np.array([\n",
    "    [1, 2, 3],\n",
    "    [4, 5, 6]\n",
    "])\n",
    "print(np.sum(a))\n",
    "print(np.sum(a, axis=0))\n",
    "print(np.sum(a, axis=1))\n",
    "print(np.mean(a, axis=0))"
   ]
  },
  {
   "cell_type": "markdown",
   "id": "3937e36f-bfeb-4c3f-9071-93faad9bf8cc",
   "metadata": {},
   "source": [
    "### (pseudo-) Random number generators (RNGs)"
   ]
  },
  {
   "cell_type": "code",
   "execution_count": 39,
   "id": "f3d10fcb-6023-45d7-af6e-db1bab2a976a",
   "metadata": {},
   "outputs": [
    {
     "name": "stdout",
     "output_type": "stream",
     "text": [
      "[[0.40946333 0.11801361 0.62498798 0.12803207]\n",
      " [0.66274095 0.86390412 0.23999112 0.53611824]\n",
      " [0.99083643 0.36483007 0.11361669 0.42059667]]\n"
     ]
    }
   ],
   "source": [
    "r1 = np.random.rand(3, 4)\n",
    "print(r1)"
   ]
  },
  {
   "cell_type": "code",
   "execution_count": 40,
   "id": "4564834e-da9c-492d-b49b-e5fd3e13dfd7",
   "metadata": {},
   "outputs": [
    {
     "name": "stdout",
     "output_type": "stream",
     "text": [
      "r2=56\n",
      "r3=\n",
      "[[ 0 -3 -3  7  0]\n",
      " [-3  2 18 -1  6]\n",
      " [18 -3 -1  5  0]\n",
      " [ 3  7 10 15  3]\n",
      " [19 15 13  8 14]]\n"
     ]
    }
   ],
   "source": [
    "r2 = np.random.randint(100)\n",
    "print(f\"r2={r2}\")\n",
    "r3 = np.random.randint(-5, 20, (5, 5))\n",
    "print(f\"r3=\\n{r3}\")"
   ]
  },
  {
   "cell_type": "code",
   "execution_count": 43,
   "id": "ee79e842-0d63-4a56-8b5f-7efb7f9158b5",
   "metadata": {},
   "outputs": [
    {
     "name": "stdout",
     "output_type": "stream",
     "text": [
      "[ 7.67503133  2.88840628 -6.87545082  2.11030998 -7.10633166 -7.82767819\n",
      " -7.55704881 -7.96179852 -2.54807086  3.8493315   1.50958727 -7.23940016\n",
      " -9.62125219  2.38753143  0.43831821  2.24830938  2.52813161 -4.98146182\n",
      "  0.11315246 -0.23595909  0.90376453  5.82314174  2.84523619  7.25073504\n",
      " -3.58634221 -6.54875363  9.78337421  1.51510304 -7.08129798 -7.7246581\n",
      " -3.57283458 -0.76612161  2.35028672  3.27916846 -4.2414417   5.40837488\n",
      " -6.56281369  5.49686288  3.41174777  3.97446515 -9.72242563  0.27677439\n",
      " -3.55381389  1.8508721   0.80071479  4.35113832 -1.52789064  0.26371672\n",
      "  1.84436446  4.62882406 -4.43782826 -8.94065075  0.76886672 -4.03313233\n",
      " -1.50500113  4.3600044   5.76352464  6.94935502 -7.37163849 -3.53190311\n",
      "  1.83725414  5.46898748 -8.65238189 -6.07588806 -9.9684186  -6.75013862\n",
      "  1.22493131 -6.99714546 -7.27702763  2.74542526  1.54690768 -8.47810306\n",
      "  7.02502974  3.69877397 -7.68068429  7.84901093  8.34530963 -6.48363107\n",
      " -3.1569872   1.72725262 -3.22531438  4.41635573  2.35380791 -7.96209308\n",
      " -4.93954407  5.2674901  -0.03781129 -9.56351949 -9.40000805 -6.18248633\n",
      " -1.33302997  0.3472422   1.85733165 -3.63416685  8.37679219 -1.68704462\n",
      "  6.32361675 -2.20242957  6.17144079  1.30857766]\n"
     ]
    }
   ],
   "source": [
    "r_uni = np.random.uniform(-10, 10, 100000)\n",
    "print(r_uni[:100])"
   ]
  },
  {
   "cell_type": "code",
   "execution_count": 44,
   "id": "0cae9092-7b61-40aa-9337-015b425bd917",
   "metadata": {},
   "outputs": [
    {
     "data": {
      "text/plain": [
       "Text(0, 0.5, 'Frequency')"
      ]
     },
     "execution_count": 44,
     "metadata": {},
     "output_type": "execute_result"
    },
    {
     "data": {
      "image/png": "[encoded data removed]",
      "text/plain": [
       "<Figure size 640x480 with 1 Axes>"
      ]
     },
     "metadata": {},
     "output_type": "display_data"
    }
   ],
   "source": [
    "# This is just to show the distribution, we'll learn how to work with\n",
    "# matplotlib later...\n",
    "%matplotlib inline\n",
    "import matplotlib.pyplot as plt\n",
    "hist, bins = np.histogram(r_uni, bins=50, density=True)\n",
    "fig, ax = plt.subplots()\n",
    "ax.bar(bins[:-1], hist, width=0.2, color=\"#2b8cbeaa\")\n",
    "ax.set_title(\"Distribution of pseudo-random numbers using random.uniform\")\n",
    "ax.set_xlabel(\"x\")\n",
    "ax.set_ylabel(\"Frequency\")"
   ]
  },
  {
   "cell_type": "code",
   "execution_count": 51,
   "id": "58f8a2ff-8868-4800-99b2-0176b36e4ff0",
   "metadata": {},
   "outputs": [
    {
     "data": {
      "text/plain": [
       "Text(0, 0.5, 'Frequency')"
      ]
     },
     "execution_count": 51,
     "metadata": {},
     "output_type": "execute_result"
    },
    {
     "data": {
      "image/png": "[encoded data removed]",
      "text/plain": [
       "<Figure size 640x480 with 1 Axes>"
      ]
     },
     "metadata": {},
     "output_type": "display_data"
    }
   ],
   "source": [
    "# 1st param is the mean (μ), 2nd is the standard deviation (σ), 3rd is the number of numbers\n",
    "r_gauss = np.random.normal(0.0, 1.0, 1000000)\n",
    "\n",
    "hist, bins = np.histogram(r_gauss, bins=100, density=True)\n",
    "fig, ax = plt.subplots()\n",
    "ax.bar(bins[:-1], hist, width=0.05, color=\"#e34a33ff\")\n",
    "ax.set_title(\"Distribution of pseudo-random numbers using random.normal\")\n",
    "ax.set_xlabel(\"x\")\n",
    "ax.set_ylabel(\"Frequency\")"
   ]
  },
  {
   "cell_type": "markdown",
   "id": "7701c4ab-3e18-4793-8698-af1a0109fc45",
   "metadata": {},
   "source": [
    "### Working with mathematical functions"
   ]
  },
  {
   "cell_type": "code",
   "execution_count": 54,
   "id": "5f25d885-7cea-42eb-b1a6-8b80b7fd09f6",
   "metadata": {},
   "outputs": [
    {
     "name": "stdout",
     "output_type": "stream",
     "text": [
      "[ 0  1  2  3  4  5  6  7  8  9 10]\n",
      "[  0   1   4   9  16  25  36  49  64  81 100]\n",
      "[0.         1.         1.41421356 1.73205081 2.         2.23606798\n",
      " 2.44948974 2.64575131 2.82842712 3.         3.16227766]\n"
     ]
    }
   ],
   "source": [
    "xs = np.arange(0, 11)\n",
    "ys = xs**2\n",
    "zs = np.sqrt(xs)\n",
    "print(xs)\n",
    "print(ys)\n",
    "print(zs)"
   ]
  },
  {
   "cell_type": "code",
   "execution_count": 52,
   "id": "9904c981-b140-4663-9a55-fc3f57b9c938",
   "metadata": {},
   "outputs": [
    {
     "data": {
      "text/plain": [
       "<matplotlib.legend.Legend at 0x7b1e483098e0>"
      ]
     },
     "execution_count": 52,
     "metadata": {},
     "output_type": "execute_result"
    },
    {
     "data": {
      "image/png": "[encoded data removed]",
      "text/plain": [
       "<Figure size 640x480 with 1 Axes>"
      ]
     },
     "metadata": {},
     "output_type": "display_data"
    }
   ],
   "source": [
    "xs = np.arange(-3*np.pi, 3*np.pi, 0.001)\n",
    "ys1 = np.sin(xs)\n",
    "ys2 = np.cos(xs)\n",
    "\n",
    "plt.rcParams[\"text.usetex\"] = True\n",
    "fig, ax = plt.subplots()\n",
    "ax.plot(xs, ys1, color=\"red\", label=r\"$\\sin(x)$\")\n",
    "ax.plot(xs, ys2, color=\"blue\", label=r\"$\\cos(x)$\")\n",
    "ax.set_title(r\"Basic trigonometric functions\", fontsize=25)\n",
    "ax.set_xlabel(r\"$x$\", fontsize=20)\n",
    "ax.set_ylabel(r\"$y$\", fontsize=20, rotation=0)\n",
    "ax.xaxis.set_tick_params(labelsize=15)\n",
    "ax.yaxis.set_tick_params(labelsize=15)\n",
    "ax.set_ylim([-2, 2])\n",
    "ax.legend(prop={\"size\": 13})"
   ]
  },
  {
   "cell_type": "markdown",
   "id": "2643b117-ea61-4c63-afeb-39c5ea74b07f",
   "metadata": {},
   "source": [
    "### Calc time for numpy style vs native python (i.e. loops and list compre)"
   ]
  },
  {
   "cell_type": "code",
   "execution_count": 53,
   "id": "a24bd18d-cd28-434f-afad-9109eb8d3665",
   "metadata": {},
   "outputs": [],
   "source": [
    "import timeit\n",
    "N = 10000"
   ]
  },
  {
   "cell_type": "code",
   "execution_count": 54,
   "id": "b9b01785-4f06-44a5-be07-d0d29a53a058",
   "metadata": {},
   "outputs": [
    {
     "name": "stdout",
     "output_type": "stream",
     "text": [
      "951 μs ± 76 μs per loop (mean ± std. dev. of 7 runs, 1,000 loops each)\n"
     ]
    }
   ],
   "source": [
    "# Normal loop\n",
    "xs = list(range(N))\n",
    "ys = [0] * N\n",
    "def normal_loop():\n",
    "    for i in range(N):\n",
    "        ys[i] = xs[i]**2\n",
    "%timeit normal_loop()"
   ]
  },
  {
   "cell_type": "code",
   "execution_count": 55,
   "id": "70555c25-76fa-47d5-aa8b-483f598b04c6",
   "metadata": {},
   "outputs": [
    {
     "name": "stdout",
     "output_type": "stream",
     "text": [
      "583 μs ± 29.6 μs per loop (mean ± std. dev. of 7 runs, 1,000 loops each)\n"
     ]
    }
   ],
   "source": [
    "# List comprehension\n",
    "xs = list(range(N))\n",
    "def lc_loop():\n",
    "    return [x**2 for x in xs]\n",
    "%timeit lc_loop()"
   ]
  },
  {
   "cell_type": "code",
   "execution_count": 56,
   "id": "30a94943-b9c2-4db7-9ba5-996fd045994a",
   "metadata": {},
   "outputs": [
    {
     "name": "stdout",
     "output_type": "stream",
     "text": [
      "3.91 μs ± 155 ns per loop (mean ± std. dev. of 7 runs, 100,000 loops each)\n"
     ]
    }
   ],
   "source": [
    "# Pure NumPy\n",
    "xs = np.arange(N)\n",
    "def np_loop():\n",
    "    return xs**2\n",
    "%timeit np_loop()"
   ]
  },
  {
   "cell_type": "code",
   "execution_count": null,
   "id": "31682a1d-1ddd-43d1-96f4-0209e3020dca",
   "metadata": {},
   "outputs": [],
   "source": []
  }
 ],
 "metadata": {
  "kernelspec": {
   "display_name": "Python 3 (ipykernel)",
   "language": "python",
   "name": "python3"
  },
  "language_info": {
   "codemirror_mode": {
    "name": "ipython",
    "version": 3
   },
   "file_extension": ".py",
   "mimetype": "text/x-python",
   "name": "python",
   "nbconvert_exporter": "python",
   "pygments_lexer": "ipython3",
   "version": "3.12.7"
  }
 },
 "nbformat": 4,
 "nbformat_minor": 5
}
